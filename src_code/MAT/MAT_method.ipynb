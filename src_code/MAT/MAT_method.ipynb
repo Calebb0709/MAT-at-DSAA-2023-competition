{
  "cells": [
    {
      "attachments": {},
      "cell_type": "markdown",
      "metadata": {
        "id": "J_8GdpjZFqfS"
      },
      "source": [
        "#prepare data"
      ]
    },
    {
      "cell_type": "code",
      "execution_count": null,
      "metadata": {
        "colab": {
          "base_uri": "https://localhost:8080/"
        },
        "id": "bUH_6KnfRsqw",
        "outputId": "aa0bb754-fdfc-4045-e847-612c60fa41af"
      },
      "outputs": [
        {
          "name": "stdout",
          "output_type": "stream",
          "text": [
            "Mounted at /content/drive\n"
          ]
        }
      ],
      "source": [
        "from google.colab import drive\n",
        "drive.mount('/content/drive')"
      ]
    },
    {
      "cell_type": "code",
      "execution_count": null,
      "metadata": {
        "id": "fW0LHwHvatmT"
      },
      "outputs": [],
      "source": [
        "!git clone https://github.com/minhquan6203/source-code-dsaa-2023"
      ]
    },
    {
      "cell_type": "code",
      "execution_count": null,
      "metadata": {
        "colab": {
          "base_uri": "https://localhost:8080/",
          "height": 36
        },
        "id": "7Cxy9EqCE-Qd",
        "outputId": "f6691683-5f1f-43bf-f77d-332779a2b482"
      },
      "outputs": [
        {
          "data": {
            "application/vnd.google.colaboratory.intrinsic+json": {
              "type": "string"
            },
            "text/plain": [
              "'data/test.csv'"
            ]
          },
          "execution_count": 4,
          "metadata": {},
          "output_type": "execute_result"
        }
      ],
      "source": [
        "import shutil\n",
        "import os\n",
        "if not os.path.exists('data'):\n",
        "  os.makedirs('data')\n",
        "shutil.copy('/content/drive/MyDrive/DSAAA_2023/data/train_new.csv','data/data.csv')\n",
        "shutil.copy('/content/drive/MyDrive/DSAAA_2023/data/test_new.csv','data/test.csv')"
      ]
    },
    {
      "cell_type": "code",
      "execution_count": null,
      "metadata": {
        "id": "QxoCRZ6sG0sp"
      },
      "outputs": [],
      "source": [
        "import pandas as pd\n",
        "data=pd.read_csv('/content/data/data.csv')\n",
        "test=pd.read_csv('/content/data/test.csv')"
      ]
    },
    {
      "cell_type": "code",
      "execution_count": null,
      "metadata": {
        "colab": {
          "base_uri": "https://localhost:8080/",
          "height": 528
        },
        "id": "-Ve6O_YAJp5Y",
        "outputId": "545c7575-852f-470e-bd1b-473362719b4f"
      },
      "outputs": [
        {
          "data": {
            "text/html": [
              "\n",
              "  <div id=\"df-72c55df2-200e-488d-ad9a-de271b08f8b5\">\n",
              "    <div class=\"colab-df-container\">\n",
              "      <div>\n",
              "<style scoped>\n",
              "    .dataframe tbody tr th:only-of-type {\n",
              "        vertical-align: middle;\n",
              "    }\n",
              "\n",
              "    .dataframe tbody tr th {\n",
              "        vertical-align: top;\n",
              "    }\n",
              "\n",
              "    .dataframe thead th {\n",
              "        text-align: right;\n",
              "    }\n",
              "</style>\n",
              "<table border=\"1\" class=\"dataframe\">\n",
              "  <thead>\n",
              "    <tr style=\"text-align: right;\">\n",
              "      <th></th>\n",
              "      <th>Unnamed: 0.1</th>\n",
              "      <th>Unnamed: 0</th>\n",
              "      <th>id</th>\n",
              "      <th>id1</th>\n",
              "      <th>id2</th>\n",
              "      <th>id1_text</th>\n",
              "      <th>id2_text</th>\n",
              "      <th>Label</th>\n",
              "    </tr>\n",
              "  </thead>\n",
              "  <tbody>\n",
              "    <tr>\n",
              "      <th>0</th>\n",
              "      <td>0</td>\n",
              "      <td>0</td>\n",
              "      <td>1</td>\n",
              "      <td>9202</td>\n",
              "      <td>9202</td>\n",
              "      <td>map russia kemerovo oblast 200803svg map russi...</td>\n",
              "      <td>map russia kemerovo oblast 200803svg map russi...</td>\n",
              "      <td>1</td>\n",
              "    </tr>\n",
              "    <tr>\n",
              "      <th>1</th>\n",
              "      <td>1</td>\n",
              "      <td>1</td>\n",
              "      <td>2</td>\n",
              "      <td>410411</td>\n",
              "      <td>460254</td>\n",
              "      <td>speciesbox genus podabrus fayi authority john ...</td>\n",
              "      <td>rathwell unincorporated urban centre manitoba ...</td>\n",
              "      <td>0</td>\n",
              "    </tr>\n",
              "    <tr>\n",
              "      <th>2</th>\n",
              "      <td>2</td>\n",
              "      <td>2</td>\n",
              "      <td>3</td>\n",
              "      <td>211858</td>\n",
              "      <td>312074</td>\n",
              "      <td>mountain unaksan photo photocaption elevationm...</td>\n",
              "      <td>following mountains korea</td>\n",
              "      <td>1</td>\n",
              "    </tr>\n",
              "    <tr>\n",
              "      <th>3</th>\n",
              "      <td>3</td>\n",
              "      <td>3</td>\n",
              "      <td>6</td>\n",
              "      <td>253901</td>\n",
              "      <td>504325</td>\n",
              "      <td>rail railroadname chattahoochee bay railroad m...</td>\n",
              "      <td>settlement tressler bank nativename nativename...</td>\n",
              "      <td>0</td>\n",
              "    </tr>\n",
              "    <tr>\n",
              "      <th>4</th>\n",
              "      <td>4</td>\n",
              "      <td>4</td>\n",
              "      <td>7</td>\n",
              "      <td>415071</td>\n",
              "      <td>63239</td>\n",
              "      <td>missing value</td>\n",
              "      <td>anna jens 17661815 dutch slave coffee plantati...</td>\n",
              "      <td>0</td>\n",
              "    </tr>\n",
              "  </tbody>\n",
              "</table>\n",
              "</div>\n",
              "      <button class=\"colab-df-convert\" onclick=\"convertToInteractive('df-72c55df2-200e-488d-ad9a-de271b08f8b5')\"\n",
              "              title=\"Convert this dataframe to an interactive table.\"\n",
              "              style=\"display:none;\">\n",
              "        \n",
              "  <svg xmlns=\"http://www.w3.org/2000/svg\" height=\"24px\"viewBox=\"0 0 24 24\"\n",
              "       width=\"24px\">\n",
              "    <path d=\"M0 0h24v24H0V0z\" fill=\"none\"/>\n",
              "    <path d=\"M18.56 5.44l.94 2.06.94-2.06 2.06-.94-2.06-.94-.94-2.06-.94 2.06-2.06.94zm-11 1L8.5 8.5l.94-2.06 2.06-.94-2.06-.94L8.5 2.5l-.94 2.06-2.06.94zm10 10l.94 2.06.94-2.06 2.06-.94-2.06-.94-.94-2.06-.94 2.06-2.06.94z\"/><path d=\"M17.41 7.96l-1.37-1.37c-.4-.4-.92-.59-1.43-.59-.52 0-1.04.2-1.43.59L10.3 9.45l-7.72 7.72c-.78.78-.78 2.05 0 2.83L4 21.41c.39.39.9.59 1.41.59.51 0 1.02-.2 1.41-.59l7.78-7.78 2.81-2.81c.8-.78.8-2.07 0-2.86zM5.41 20L4 18.59l7.72-7.72 1.47 1.35L5.41 20z\"/>\n",
              "  </svg>\n",
              "      </button>\n",
              "      \n",
              "  <style>\n",
              "    .colab-df-container {\n",
              "      display:flex;\n",
              "      flex-wrap:wrap;\n",
              "      gap: 12px;\n",
              "    }\n",
              "\n",
              "    .colab-df-convert {\n",
              "      background-color: #E8F0FE;\n",
              "      border: none;\n",
              "      border-radius: 50%;\n",
              "      cursor: pointer;\n",
              "      display: none;\n",
              "      fill: #1967D2;\n",
              "      height: 32px;\n",
              "      padding: 0 0 0 0;\n",
              "      width: 32px;\n",
              "    }\n",
              "\n",
              "    .colab-df-convert:hover {\n",
              "      background-color: #E2EBFA;\n",
              "      box-shadow: 0px 1px 2px rgba(60, 64, 67, 0.3), 0px 1px 3px 1px rgba(60, 64, 67, 0.15);\n",
              "      fill: #174EA6;\n",
              "    }\n",
              "\n",
              "    [theme=dark] .colab-df-convert {\n",
              "      background-color: #3B4455;\n",
              "      fill: #D2E3FC;\n",
              "    }\n",
              "\n",
              "    [theme=dark] .colab-df-convert:hover {\n",
              "      background-color: #434B5C;\n",
              "      box-shadow: 0px 1px 3px 1px rgba(0, 0, 0, 0.15);\n",
              "      filter: drop-shadow(0px 1px 2px rgba(0, 0, 0, 0.3));\n",
              "      fill: #FFFFFF;\n",
              "    }\n",
              "  </style>\n",
              "\n",
              "      <script>\n",
              "        const buttonEl =\n",
              "          document.querySelector('#df-72c55df2-200e-488d-ad9a-de271b08f8b5 button.colab-df-convert');\n",
              "        buttonEl.style.display =\n",
              "          google.colab.kernel.accessAllowed ? 'block' : 'none';\n",
              "\n",
              "        async function convertToInteractive(key) {\n",
              "          const element = document.querySelector('#df-72c55df2-200e-488d-ad9a-de271b08f8b5');\n",
              "          const dataTable =\n",
              "            await google.colab.kernel.invokeFunction('convertToInteractive',\n",
              "                                                     [key], {});\n",
              "          if (!dataTable) return;\n",
              "\n",
              "          const docLinkHtml = 'Like what you see? Visit the ' +\n",
              "            '<a target=\"_blank\" href=https://colab.research.google.com/notebooks/data_table.ipynb>data table notebook</a>'\n",
              "            + ' to learn more about interactive tables.';\n",
              "          element.innerHTML = '';\n",
              "          dataTable['output_type'] = 'display_data';\n",
              "          await google.colab.output.renderOutput(dataTable, element);\n",
              "          const docLink = document.createElement('div');\n",
              "          docLink.innerHTML = docLinkHtml;\n",
              "          element.appendChild(docLink);\n",
              "        }\n",
              "      </script>\n",
              "    </div>\n",
              "  </div>\n",
              "  "
            ],
            "text/plain": [
              "   Unnamed: 0.1  Unnamed: 0  id     id1     id2  \\\n",
              "0             0           0   1    9202    9202   \n",
              "1             1           1   2  410411  460254   \n",
              "2             2           2   3  211858  312074   \n",
              "3             3           3   6  253901  504325   \n",
              "4             4           4   7  415071   63239   \n",
              "\n",
              "                                            id1_text  \\\n",
              "0  map russia kemerovo oblast 200803svg map russi...   \n",
              "1  speciesbox genus podabrus fayi authority john ...   \n",
              "2  mountain unaksan photo photocaption elevationm...   \n",
              "3  rail railroadname chattahoochee bay railroad m...   \n",
              "4                                      missing value   \n",
              "\n",
              "                                            id2_text  Label  \n",
              "0  map russia kemerovo oblast 200803svg map russi...      1  \n",
              "1  rathwell unincorporated urban centre manitoba ...      0  \n",
              "2                          following mountains korea      1  \n",
              "3  settlement tressler bank nativename nativename...      0  \n",
              "4  anna jens 17661815 dutch slave coffee plantati...      0  "
            ]
          },
          "execution_count": 6,
          "metadata": {},
          "output_type": "execute_result"
        }
      ],
      "source": [
        "data.head()"
      ]
    },
    {
      "cell_type": "code",
      "execution_count": null,
      "metadata": {
        "colab": {
          "base_uri": "https://localhost:8080/"
        },
        "id": "WIQ21D4QHVGZ",
        "outputId": "a455bf52-172a-4b1c-ff6b-aa91f7c42dd0"
      },
      "outputs": [
        {
          "name": "stdout",
          "output_type": "stream",
          "text": [
            "758586\n"
          ]
        }
      ],
      "source": [
        "from numpy.random import RandomState\n",
        "rng = RandomState(1234)\n",
        "train = data.sample(frac=0.8, random_state=rng)\n",
        "print(train.shape[0])\n",
        "val = data.loc[~data.index.isin(train.index)]\n",
        "train.to_csv('data/train.csv',index=False)\n",
        "val.to_csv('data/dev.csv',index=False)"
      ]
    },
    {
      "attachments": {},
      "cell_type": "markdown",
      "metadata": {
        "id": "-O2HJvVrFx5L"
      },
      "source": [
        "#install packages"
      ]
    },
    {
      "cell_type": "code",
      "execution_count": null,
      "metadata": {
        "id": "RT3X2tw_IaOr"
      },
      "outputs": [],
      "source": [
        "!pip install yacs\n",
        "!pip install SentencePiece\n",
        "!pip install transformers datasets\n",
        "!pip install --upgrade accelerate\n",
        "import nltk\n",
        "nltk.download('wordnet')\n",
        "nltk.download('omw-1.4')"
      ]
    },
    {
      "cell_type": "code",
      "execution_count": null,
      "metadata": {
        "id": "_gzwZTLJRPao"
      },
      "outputs": [],
      "source": [
        "import os\n",
        "os.environ[\"TOKENIZERS_PARALLELISM\"] = \"false\""
      ]
    },
    {
      "attachments": {},
      "cell_type": "markdown",
      "metadata": {
        "id": "Xz2nTYraF8Vm"
      },
      "source": [
        "#training or predict"
      ]
    },
    {
      "cell_type": "code",
      "execution_count": null,
      "metadata": {
        "colab": {
          "base_uri": "https://localhost:8080/"
        },
        "id": "76P6r-0fII4X",
        "outputId": "7ecc1011-dcae-40ec-e3cc-cc048f40925b"
      },
      "outputs": [
        {
          "name": "stdout",
          "output_type": "stream",
          "text": [
            "2023-06-28 16:12:03.675859: W tensorflow/compiler/tf2tensorrt/utils/py_utils.cc:38] TF-TRT Warning: Could not find TensorRT\n",
            "Downloading and preparing dataset csv/default to /root/.cache/huggingface/datasets/csv/default-b1e138bea89dfd4b/0.0.0/eea64c71ca8b46dd3f537ed218fc9bf495d5707789152eb2764f5c78fa66d59d...\n",
            "Downloading data files: 100% 2/2 [00:00<00:00, 11214.72it/s]\n",
            "Extracting data files: 100% 2/2 [00:00<00:00, 1335.98it/s]\n",
            "Dataset csv downloaded and prepared to /root/.cache/huggingface/datasets/csv/default-b1e138bea89dfd4b/0.0.0/eea64c71ca8b46dd3f537ed218fc9bf495d5707789152eb2764f5c78fa66d59d. Subsequent calls will reuse this data.\n",
            "100% 2/2 [00:00<00:00, 33.26it/s]\n",
            "INFO:root:Loaded processed sentiment Dataset\n",
            "INFO:root:Created data collator\n",
            "Downloading (…)okenizer_config.json: 100% 28.0/28.0 [00:00<00:00, 161kB/s]\n",
            "Downloading (…)lve/main/config.json: 100% 570/570 [00:00<00:00, 3.26MB/s]\n",
            "Downloading (…)solve/main/vocab.txt: 100% 232k/232k [00:00<00:00, 507kB/s]\n",
            "Downloading (…)/main/tokenizer.json: 100% 466k/466k [00:00<00:00, 143MB/s]\n",
            "Downloading model.safetensors: 100% 440M/440M [00:01<00:00, 348MB/s]\n",
            "INFO:root:Initialized model for training\n",
            "INFO:root:Training started...\n",
            "frist time training\n",
            "{'loss': 0.0048, 'learning_rate': 2.999800088585869e-05, 'epoch': 1.0}\n"
          ]
        }
      ],
      "source": [
        "!python ./src_code/MAT/src/main.py --config ./src_code/MAT/config/config_mat.yaml"
      ]
    }
  ],
  "metadata": {
    "accelerator": "GPU",
    "colab": {
      "provenance": []
    },
    "kernelspec": {
      "display_name": "Python 3",
      "name": "python3"
    },
    "language_info": {
      "name": "python"
    }
  },
  "nbformat": 4,
  "nbformat_minor": 0
}
